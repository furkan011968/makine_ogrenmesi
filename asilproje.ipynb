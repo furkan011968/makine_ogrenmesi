{
 "cells": [
  {
   "cell_type": "code",
   "execution_count": 113,
   "id": "3d6b9830",
   "metadata": {},
   "outputs": [],
   "source": [
    "from PIL import Image #Görsellerle alakalı işlemler için kullanır.\n",
    "import numpy as np #Numerik işlemler için kütüphane\n",
    "import sys      #Sistem dosya erişimi ve csv dosya işlemleri için kullanılan kütüphane\n",
    "import os       #Sistem dosya erişimi ve csv dosya işlemleri için kullanılan kütüphane\n",
    "import csv      #Sistem dosya erişimi ve csv dosya işlemleri için kullanılan kütüphane\n",
    "import matplotlib.pyplot as plt #Görsel grafikler için kütüphane\n",
    "import pandas as pd #Veri bazlı işlemler için kütüphane\n",
    "import glob #Dosya yolu işlemleri için kullanılır."
   ]
  },
  {
   "cell_type": "code",
   "execution_count": null,
   "id": "e261c188",
   "metadata": {},
   "outputs": [],
   "source": [
    "#Görsellerin olduğu dosya dizini\n",
    "os.chdir(\"C:/Users/abdullahfurkan/Desktop/foto/9/\")#Görsellerin olduğu dosya dizini\n",
    "myFileList =[]\n",
    "#Klasör içerisindeki dosya yollarının alınıp diziye atanması\n",
    "for root, dirs, files in os.walk(\".\", topdown = False):\n",
    "   for name in files:\n",
    "      myFileList.append(\"C:\\\\Users\\\\abdullahfurkan\\\\Desktop\\\\foto\\\\9\\\\\"+(os.path.join(name))) \n",
    "   for name in dirs:\n",
    "      myFileList.append(os.path.join(root, name))"
   ]
  },
  {
   "cell_type": "code",
   "execution_count": null,
   "id": "51024884",
   "metadata": {},
   "outputs": [],
   "source": [
    "#Dosyaların etiketleriyle beraber rakama ait csv dosyasına yazılması\n",
    "for file in myFileList:\n",
    "    img_file = Image.open(file)\n",
    "    img_grey = img_file.convert('L')\n",
    "    value = np.asarray(img_grey.getdata(), dtype=int).reshape((img_grey.size[1], img_grey.size[0]))\n",
    "    value = value.flatten()\n",
    "    value = np.insert(value,(0,), 9) #Label etiketi tanımlama kısmı (rakam bilgisi = 0 , 1 ,2 ,........)\n",
    "    with open(\"C:/Users/abdullahfurkan/Desktop/foto/yeni_test_verisi_dokuz.csv\",'a+',newline ='') as f:\n",
    "        writer = csv.writer(f)\n",
    "        writer.writerow(value)\n",
    "    \n",
    "    \n",
    "    "
   ]
  },
  {
   "cell_type": "code",
   "execution_count": 133,
   "id": "2b34bd13",
   "metadata": {
    "scrolled": true
   },
   "outputs": [
    {
     "data": {
      "image/png": "[encoded data removed]",
      "text/plain": [
       "<Figure size 432x288 with 1 Axes>"
      ]
     },
     "metadata": {
      "needs_background": "light"
     },
     "output_type": "display_data"
    }
   ],
   "source": [
    "#Bu adımda csvden çekilen herhangi bir rakam verisinin doğruluğunu kontrol etmek için gösterimi var.\n",
    "X=[]\n",
    "X = pd.read_csv(\"C:/Users/abdullahfurkan/Desktop/foto/tum_csvler/yeni_test_verisi_iki.csv\",skiprows=8,nrows=1)\n",
    "fr = pd.DataFrame(X)\n",
    "fr.drop(fr.columns[[0]], axis=1,inplace=True)#785 PİXELİN LABELİNİ SİLER.\n",
    "st=fr.to_numpy() #DATAFRAME RESHAPE DESTEKLEMİYOR BU SEBEPLE NUMPY'A ÇEVİRİYORUZ.\n",
    "st=st.reshape((28, 28)) #DATAFREAME NUMPYA ÇEVRİLDİKTEN SONRA 2 BOYUTLU(28*28) HALE GETİRİLİYOR\n",
    "\n",
    "plt.imshow(st, cmap=\"Greys\") #GRİ SKALA ÇEVİRİMİ VE PLT PAKETİ ÇEVRİMİ UYGULANIYOR\n",
    "plt.show() #GÖRSELİ EKRANDA GÖSTERME.\n",
    "\n"
   ]
  },
  {
   "cell_type": "code",
   "execution_count": 143,
   "id": "6e33e45a",
   "metadata": {},
   "outputs": [],
   "source": [
    "#Rakam bazlı olarak csv dosyalarına aktarılan veriler tek bir csv doyasında bir araya getiriliyor.\n",
    "path = \"C:/Users/abdullahfurkan/Desktop/foto/tum_csvler/\"\n",
    "\n",
    "master_df = pd.DataFrame()\n",
    "\n",
    "for file in os.listdir(os.getcwd()):\n",
    "    if file.endswith('.csv'): #Csv dosyalarının belirlenmesi\n",
    "        master_df = master_df.append(pd.read_csv(file))#Csv dosyalarının birbiri üzerine eklenmesi\n",
    "master_df.to_csv('mnist_test_yeni.csv',index=False) #Çıktı dosyası"
   ]
  },
  {
   "cell_type": "code",
   "execution_count": null,
   "id": "f41be971",
   "metadata": {},
   "outputs": [],
   "source": []
  }
 ],
 "metadata": {
  "kernelspec": {
   "display_name": "Python 3 (ipykernel)",
   "language": "python",
   "name": "python3"
  },
  "language_info": {
   "codemirror_mode": {
    "name": "ipython",
    "version": 3
   },
   "file_extension": ".py",
   "mimetype": "text/x-python",
   "name": "python",
   "nbconvert_exporter": "python",
   "pygments_lexer": "ipython3",
   "version": "3.9.7"
  }
 },
 "nbformat": 4,
 "nbformat_minor": 5
}
