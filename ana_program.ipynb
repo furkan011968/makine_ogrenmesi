{
 "cells": [
  {
   "cell_type": "code",
   "execution_count": 1,
   "id": "ca961fb2",
   "metadata": {},
   "outputs": [],
   "source": [
    "import numpy as np #Numerik işlemler için kütüphane\n",
    "import matplotlib.pyplot as plt #Görsel grafikler için kütüphane\n",
    "import keras #Makine öğrenmesi ve model eğitimi için kullanılabilir.\n",
    "import tensorflow as tf #Makine öğrenmesi ve model eğitimi için kullanılabilir.\n",
    "from tensorflow.keras.utils import to_categorical #Model eğitiminde kayıp parametresi kütüphanesi\n",
    "from numpy import genfromtxt #Dosya işlemleri için\n"
   ]
  },
  {
   "cell_type": "code",
   "execution_count": 2,
   "id": "72ae0cd3",
   "metadata": {},
   "outputs": [],
   "source": [
    "#Toplanmış test verisi ile\n",
    "test_verisi = genfromtxt('C:/Users/abdullahfurkan/Desktop/datalar/yeni_test/mnist_test_yeni.csv', delimiter=',')\n",
    "egitim_verisi = genfromtxt('C:/Users/abdullahfurkan/Desktop/datalar/yeni_test/mnist_train.csv', delimiter=',')"
   ]
  },
  {
   "cell_type": "code",
   "execution_count": null,
   "id": "7b5a5f45",
   "metadata": {},
   "outputs": [],
   "source": [
    "#Orjinal veriler ile\n",
    "test_verisi = genfromtxt('C:/Users/abdullahfurkan/Desktop/datalar/asil/mnist_test.csv', delimiter=',')\n",
    "egitim_verisi = genfromtxt('C:/Users/abdullahfurkan/Desktop/datalar/asil/mnist_train.csv', delimiter=',')"
   ]
  },
  {
   "cell_type": "code",
   "execution_count": 3,
   "id": "ed3a24ca",
   "metadata": {
    "scrolled": false
   },
   "outputs": [
    {
     "data": {
      "text/plain": [
       "array([[nan, nan, nan, ..., nan, nan, nan],\n",
       "       [ 0.,  0.,  0., ...,  0.,  0.,  0.],\n",
       "       [ 0.,  0.,  0., ...,  0.,  0.,  0.],\n",
       "       ...,\n",
       "       [ 9.,  0.,  0., ...,  0.,  0.,  0.],\n",
       "       [ 9.,  0.,  0., ...,  0.,  0.,  0.],\n",
       "       [ 9.,  0.,  0., ...,  0.,  0.,  0.]])"
      ]
     },
     "execution_count": 3,
     "metadata": {},
     "output_type": "execute_result"
    }
   ],
   "source": [
    "test_verisi"
   ]
  },
  {
   "cell_type": "code",
   "execution_count": 4,
   "id": "12e38c8e",
   "metadata": {},
   "outputs": [
    {
     "data": {
      "text/plain": [
       "array([[nan, nan, nan, ..., nan, nan, nan],\n",
       "       [ 5.,  0.,  0., ...,  0.,  0.,  0.],\n",
       "       [ 0.,  0.,  0., ...,  0.,  0.,  0.],\n",
       "       ...,\n",
       "       [ 5.,  0.,  0., ...,  0.,  0.,  0.],\n",
       "       [ 6.,  0.,  0., ...,  0.,  0.,  0.],\n",
       "       [ 8.,  0.,  0., ...,  0.,  0.,  0.]])"
      ]
     },
     "execution_count": 4,
     "metadata": {},
     "output_type": "execute_result"
    }
   ],
   "source": [
    "egitim_verisi"
   ]
  },
  {
   "cell_type": "code",
   "execution_count": 5,
   "id": "4cc7959a",
   "metadata": {},
   "outputs": [
    {
     "data": {
      "text/plain": [
       "(10001, 785)"
      ]
     },
     "execution_count": 5,
     "metadata": {},
     "output_type": "execute_result"
    }
   ],
   "source": [
    "np.shape(test_verisi)"
   ]
  },
  {
   "cell_type": "code",
   "execution_count": 6,
   "id": "e4e956db",
   "metadata": {},
   "outputs": [
    {
     "data": {
      "text/plain": [
       "(60001, 785)"
      ]
     },
     "execution_count": 6,
     "metadata": {},
     "output_type": "execute_result"
    }
   ],
   "source": [
    "np.shape(egitim_verisi)"
   ]
  },
  {
   "cell_type": "code",
   "execution_count": 7,
   "id": "3222ef0a",
   "metadata": {},
   "outputs": [
    {
     "data": {
      "text/plain": [
       "array([[5., 0., 0., ..., 0., 0., 0.],\n",
       "       [0., 0., 0., ..., 0., 0., 0.],\n",
       "       [4., 0., 0., ..., 0., 0., 0.],\n",
       "       ...,\n",
       "       [5., 0., 0., ..., 0., 0., 0.],\n",
       "       [6., 0., 0., ..., 0., 0., 0.],\n",
       "       [8., 0., 0., ..., 0., 0., 0.]])"
      ]
     },
     "execution_count": 7,
     "metadata": {},
     "output_type": "execute_result"
    }
   ],
   "source": [
    "#eğitim verisindeki sütun etiketlerinin kaldırılması (label,1x1,1x2,1x3,1x4,1x5)\n",
    "egitim_ilk_satir_temizlendi=np.delete(egitim_verisi, 0, 0)\n",
    "egitim_ilk_satir_temizlendi\n",
    "\n"
   ]
  },
  {
   "cell_type": "code",
   "execution_count": 8,
   "id": "fa5104a4",
   "metadata": {},
   "outputs": [
    {
     "data": {
      "text/plain": [
       "array([[0., 0., 0., ..., 0., 0., 0.],\n",
       "       [0., 0., 0., ..., 0., 0., 0.],\n",
       "       [0., 0., 0., ..., 0., 0., 0.],\n",
       "       ...,\n",
       "       [9., 0., 0., ..., 0., 0., 0.],\n",
       "       [9., 0., 0., ..., 0., 0., 0.],\n",
       "       [9., 0., 0., ..., 0., 0., 0.]])"
      ]
     },
     "execution_count": 8,
     "metadata": {},
     "output_type": "execute_result"
    }
   ],
   "source": [
    "#test verisindeki sütun etiketlerinin kaldırılması (label,1x1,1x2,1x3,1x4,1x5)\n",
    "test_ilk_satir_temizlendi=np.delete(test_verisi, 0, 0)\n",
    "test_ilk_satir_temizlendi"
   ]
  },
  {
   "cell_type": "code",
   "execution_count": 9,
   "id": "ef3451eb",
   "metadata": {
    "scrolled": true
   },
   "outputs": [
    {
     "data": {
      "text/plain": [
       "array([5., 0., 4., ..., 5., 6., 8.])"
      ]
     },
     "execution_count": 9,
     "metadata": {},
     "output_type": "execute_result"
    }
   ],
   "source": [
    "#ilk sütunda bulunan tanımlayıcı veri etiketlerinin numpy dizilerine aktarılması\n",
    "egitim_verisi_etiket=egitim_ilk_satir_temizlendi[:,0]\n",
    "egitim_verisi_etiket"
   ]
  },
  {
   "cell_type": "code",
   "execution_count": 10,
   "id": "ba421d39",
   "metadata": {},
   "outputs": [
    {
     "data": {
      "text/plain": [
       "array([0., 0., 0., ..., 9., 9., 9.])"
      ]
     },
     "execution_count": 10,
     "metadata": {},
     "output_type": "execute_result"
    }
   ],
   "source": [
    "#ilk sütunda bulunan tanımlayıcı veri etiketlerinin numpy dizilerine aktarılması\n",
    "test_verisi_etiket=test_ilk_satir_temizlendi[:,0]\n",
    "test_verisi_etiket"
   ]
  },
  {
   "cell_type": "code",
   "execution_count": 11,
   "id": "ea8175ad",
   "metadata": {},
   "outputs": [
    {
     "data": {
      "text/plain": [
       "(60000, 784)"
      ]
     },
     "execution_count": 11,
     "metadata": {},
     "output_type": "execute_result"
    }
   ],
   "source": [
    "#ilk sütunda bulunan tanımlayıcı veri etiketlerinin numpy dizilerine aktarılması ardından silinmesi\n",
    "egitim_sss=np.delete(egitim_ilk_satir_temizlendi, [0, 0], 1) #sıfırıncı indisteki sütunun silinmesi\n",
    "np.shape(egitim_sss)\n"
   ]
  },
  {
   "cell_type": "code",
   "execution_count": 12,
   "id": "dabcd289",
   "metadata": {},
   "outputs": [
    {
     "data": {
      "text/plain": [
       "(10000, 784)"
      ]
     },
     "execution_count": 12,
     "metadata": {},
     "output_type": "execute_result"
    }
   ],
   "source": [
    "#ilk sütunda bulunan tanımlayıcı veri etiketlerinin numpy dizilerine aktarılması ardından silinmesi\n",
    "test_sss=np.delete(test_ilk_satir_temizlendi, [0, 0], 1) #sıfırıncı indisteki sütunun silinmesi\n",
    "np.shape(test_sss)"
   ]
  },
  {
   "cell_type": "code",
   "execution_count": 13,
   "id": "259f91b6",
   "metadata": {},
   "outputs": [
    {
     "data": {
      "text/plain": [
       "(60000, 28, 28, 1)"
      ]
     },
     "execution_count": 13,
     "metadata": {},
     "output_type": "execute_result"
    }
   ],
   "source": [
    "#verileri 1 boyutlu numpy dizilerinden 2 boyutlu 28x28 matrise çevirme\n",
    "egitim_verisi_hazir=egitim_sss.reshape(egitim_sss.shape[0], 28, 28, 1)\n",
    "np.shape(egitim_verisi_hazir)"
   ]
  },
  {
   "cell_type": "code",
   "execution_count": 14,
   "id": "db1e4cf5",
   "metadata": {},
   "outputs": [
    {
     "data": {
      "text/plain": [
       "(10000, 28, 28, 1)"
      ]
     },
     "execution_count": 14,
     "metadata": {},
     "output_type": "execute_result"
    }
   ],
   "source": [
    "#verileri 1 boyutlu numpy dizilerinden 2 boyutlu 28x28 matrise çevirme\n",
    "test_verisi_hazir=test_sss.reshape(test_sss.shape[0], 28, 28, 1)\n",
    "np.shape(test_verisi_hazir)"
   ]
  },
  {
   "cell_type": "code",
   "execution_count": 2,
   "id": "db960a44",
   "metadata": {},
   "outputs": [
    {
     "ename": "NameError",
     "evalue": "name 'egitim_verisi_hazir' is not defined",
     "output_type": "error",
     "traceback": [
      "\u001b[1;31m---------------------------------------------------------------------------\u001b[0m",
      "\u001b[1;31mNameError\u001b[0m                                 Traceback (most recent call last)",
      "\u001b[1;32mC:\\Users\\ABDULL~1\\AppData\\Local\\Temp/ipykernel_12872/3696267616.py\u001b[0m in \u001b[0;36m<module>\u001b[1;34m\u001b[0m\n\u001b[0;32m      1\u001b[0m \u001b[0minput_shape\u001b[0m \u001b[1;33m=\u001b[0m \u001b[1;33m(\u001b[0m\u001b[1;36m28\u001b[0m\u001b[1;33m,\u001b[0m \u001b[1;36m28\u001b[0m\u001b[1;33m,\u001b[0m \u001b[1;36m1\u001b[0m\u001b[1;33m)\u001b[0m\u001b[1;33m\u001b[0m\u001b[1;33m\u001b[0m\u001b[0m\n\u001b[0;32m      2\u001b[0m \u001b[1;31m# Normalizasyon işlemi öncesi verilerin ondalıkla sayıya çevrilmesi işlemi\u001b[0m\u001b[1;33m\u001b[0m\u001b[1;33m\u001b[0m\u001b[0m\n\u001b[1;32m----> 3\u001b[1;33m \u001b[0megitim_verisi_hazir\u001b[0m \u001b[1;33m=\u001b[0m \u001b[0megitim_verisi_hazir\u001b[0m\u001b[1;33m.\u001b[0m\u001b[0mastype\u001b[0m\u001b[1;33m(\u001b[0m\u001b[1;34m'float32'\u001b[0m\u001b[1;33m)\u001b[0m\u001b[1;33m\u001b[0m\u001b[1;33m\u001b[0m\u001b[0m\n\u001b[0m\u001b[0;32m      4\u001b[0m \u001b[0mtest_verisi_hazir\u001b[0m \u001b[1;33m=\u001b[0m \u001b[0mtest_verisi_hazir\u001b[0m\u001b[1;33m.\u001b[0m\u001b[0mastype\u001b[0m\u001b[1;33m(\u001b[0m\u001b[1;34m'float32'\u001b[0m\u001b[1;33m)\u001b[0m\u001b[1;33m\u001b[0m\u001b[1;33m\u001b[0m\u001b[0m\n\u001b[0;32m      5\u001b[0m \u001b[1;31m# Veri setindeki pixellere karşılık gelen sayısal değerler 0 ile 1 arasına indirgenir.(156/255 =0,611)\u001b[0m\u001b[1;33m\u001b[0m\u001b[1;33m\u001b[0m\u001b[0m\n",
      "\u001b[1;31mNameError\u001b[0m: name 'egitim_verisi_hazir' is not defined"
     ]
    }
   ],
   "source": [
    "input_shape = (28, 28, 1)\n",
    "# Normalizasyon işlemi öncesi verilerin ondalıkla sayıya çevrilmesi işlemi\n",
    "egitim_verisi_hazir = egitim_verisi_hazir.astype('float32')\n",
    "test_verisi_hazir = test_verisi_hazir.astype('float32')\n",
    "# Veri setindeki pixellere karşılık gelen sayısal değerler 0 ile 1 arasına indirgenir.(156/255 =0,611)\n",
    "egitim_verisi_hazir /= 255\n",
    "test_verisi_hazir /= 255\n",
    "#Genel değerler\n",
    "print('Eğitim verisi boyutları', egitim_verisi_hazir.shape)\n",
    "print('Eğitim verisi görsel sayısı', egitim_verisi_hazir.shape[0])\n",
    "print('Test verisi görsel sayısı', test_verisi_hazir.shape[0])"
   ]
  },
  {
   "cell_type": "code",
   "execution_count": 3,
   "id": "1052bd04",
   "metadata": {},
   "outputs": [],
   "source": [
    "#İhtiyaç duyulan ve model, katman parametrelerini içeren keras modülünün eklenmesi \n",
    "from tensorflow.keras.models import Sequential\n",
    "from tensorflow.keras.layers import Dense, Conv2D, Dropout, Flatten, MaxPooling2D\n",
    "#Sequential Model oluşturma ve katman ekleme\n",
    "model = Sequential() #model tanımlama işlemi #ardışık model\n",
    "model.add(Conv2D(28, kernel_size=(3,3), input_shape=input_shape))\n",
    "model.add(MaxPooling2D(pool_size=(2, 2)))\n",
    "model.add(Flatten()) #Bağlı katmanlar için 2 boyutlu dizileri düzleştirme\n",
    "model.add(Dense(128, activation=tf.nn.relu))\n",
    "model.add(Dropout(0.2))\n",
    "model.add(Dense(10,activation=tf.nn.softmax))#"
   ]
  },
  {
   "cell_type": "code",
   "execution_count": 18,
   "id": "21917354",
   "metadata": {},
   "outputs": [
    {
     "name": "stdout",
     "output_type": "stream",
     "text": [
      "Epoch 1/10\n",
      "1875/1875 [==============================] - 60s 31ms/step - loss: 0.1078 - accuracy: 0.9679\n",
      "Epoch 2/10\n",
      "1875/1875 [==============================] - 51s 27ms/step - loss: 0.0653 - accuracy: 0.9799TA: 0s - loss: 0.0653 - accuracy\n",
      "Epoch 3/10\n",
      "1875/1875 [==============================] - 52s 27ms/step - loss: 0.0453 - accuracy: 0.9857\n",
      "Epoch 4/10\n",
      "1875/1875 [==============================] - 52s 28ms/step - loss: 0.0374 - accuracy: 0.9879\n",
      "Epoch 5/10\n",
      "1875/1875 [==============================] - 51s 27ms/step - loss: 0.0289 - accuracy: 0.9903\n",
      "Epoch 6/10\n",
      "1875/1875 [==============================] - 54s 29ms/step - loss: 0.0261 - accuracy: 0.9913\n",
      "Epoch 7/10\n",
      "1875/1875 [==============================] - 53s 28ms/step - loss: 0.0212 - accuracy: 0.9929\n",
      "Epoch 8/10\n",
      "1875/1875 [==============================] - 52s 28ms/step - loss: 0.0208 - accuracy: 0.9932\n",
      "Epoch 9/10\n",
      "1875/1875 [==============================] - 52s 28ms/step - loss: 0.0170 - accuracy: 0.9940\n",
      "Epoch 10/10\n",
      "1875/1875 [==============================] - 52s 28ms/step - loss: 0.0150 - accuracy: 0.9947\n"
     ]
    }
   ],
   "source": [
    "model.compile(optimizer='adam', \n",
    "              loss='sparse_categorical_crossentropy', \n",
    "              metrics=['accuracy'])\n",
    "sonuc=model.fit(x=egitim_verisi_hazir,y=egitim_verisi_etiket, epochs=10)"
   ]
  },
  {
   "cell_type": "code",
   "execution_count": 21,
   "id": "58ff3d29",
   "metadata": {
    "scrolled": true
   },
   "outputs": [
    {
     "name": "stdout",
     "output_type": "stream",
     "text": [
      "313/313 [==============================] - 3s 10ms/step - loss: 5.8663 - accuracy: 0.3831\n"
     ]
    },
    {
     "data": {
      "text/plain": [
       "[5.866281509399414, 0.3831000030040741]"
      ]
     },
     "execution_count": 21,
     "metadata": {},
     "output_type": "execute_result"
    }
   ],
   "source": [
    "model.evaluate(test_verisi_hazir, test_verisi_etiket)"
   ]
  },
  {
   "cell_type": "code",
   "execution_count": 26,
   "id": "e5e083fc",
   "metadata": {},
   "outputs": [
    {
     "name": "stdout",
     "output_type": "stream",
     "text": [
      "Requirement already satisfied: pydot in c:\\users\\abdullahfurkan\\anaconda3\\lib\\site-packages (1.4.2)\n",
      "Requirement already satisfied: pyparsing>=2.1.4 in c:\\users\\abdullahfurkan\\anaconda3\\lib\\site-packages (from pydot) (3.0.4)\n",
      "Note: you may need to restart the kernel to use updated packages.\n"
     ]
    }
   ],
   "source": [
    "pip install pydot"
   ]
  },
  {
   "cell_type": "code",
   "execution_count": 4,
   "id": "e37c0ba9",
   "metadata": {},
   "outputs": [
    {
     "data": {
      "image/png": "[encoded data removed]",
      "text/plain": [
       "<IPython.core.display.Image object>"
      ]
     },
     "execution_count": 4,
     "metadata": {},
     "output_type": "execute_result"
    }
   ],
   "source": [
    "from tensorflow.keras.utils import plot_model\n",
    "from IPython.display import Image\n",
    "plot_model(model, to_file='model.png', show_shapes= True)\n",
    "Image(\"model.png\")\n"
   ]
  },
  {
   "cell_type": "code",
   "execution_count": 22,
   "id": "89d58f7e",
   "metadata": {},
   "outputs": [
    {
     "ename": "KeyError",
     "evalue": "'acc'",
     "output_type": "error",
     "traceback": [
      "\u001b[1;31m---------------------------------------------------------------------------\u001b[0m",
      "\u001b[1;31mKeyError\u001b[0m                                  Traceback (most recent call last)",
      "\u001b[1;32mC:\\Users\\ABDULL~1\\AppData\\Local\\Temp/ipykernel_3084/4144895940.py\u001b[0m in \u001b[0;36m<module>\u001b[1;34m\u001b[0m\n\u001b[0;32m      1\u001b[0m \u001b[0mplt\u001b[0m\u001b[1;33m.\u001b[0m\u001b[0mfigure\u001b[0m\u001b[1;33m(\u001b[0m\u001b[1;36m1\u001b[0m\u001b[1;33m)\u001b[0m\u001b[1;33m\u001b[0m\u001b[1;33m\u001b[0m\u001b[0m\n\u001b[1;32m----> 2\u001b[1;33m \u001b[0mplt\u001b[0m\u001b[1;33m.\u001b[0m\u001b[0mplot\u001b[0m\u001b[1;33m(\u001b[0m\u001b[0msonuc\u001b[0m\u001b[1;33m.\u001b[0m\u001b[0mhistory\u001b[0m\u001b[1;33m[\u001b[0m\u001b[1;34m'acc'\u001b[0m\u001b[1;33m]\u001b[0m\u001b[1;33m)\u001b[0m\u001b[1;33m\u001b[0m\u001b[1;33m\u001b[0m\u001b[0m\n\u001b[0m\u001b[0;32m      3\u001b[0m \u001b[0mplt\u001b[0m\u001b[1;33m.\u001b[0m\u001b[0mtitle\u001b[0m\u001b[1;33m(\u001b[0m\u001b[1;34m' accuracy'\u001b[0m\u001b[1;33m)\u001b[0m\u001b[1;33m\u001b[0m\u001b[1;33m\u001b[0m\u001b[0m\n\u001b[0;32m      4\u001b[0m \u001b[0mplt\u001b[0m\u001b[1;33m.\u001b[0m\u001b[0mylabel\u001b[0m\u001b[1;33m(\u001b[0m\u001b[1;34m'accuracy'\u001b[0m\u001b[1;33m)\u001b[0m\u001b[1;33m\u001b[0m\u001b[1;33m\u001b[0m\u001b[0m\n\u001b[0;32m      5\u001b[0m \u001b[0mplt\u001b[0m\u001b[1;33m.\u001b[0m\u001b[0mxlabel\u001b[0m\u001b[1;33m(\u001b[0m\u001b[1;34m'epoch'\u001b[0m\u001b[1;33m)\u001b[0m\u001b[1;33m\u001b[0m\u001b[1;33m\u001b[0m\u001b[0m\n",
      "\u001b[1;31mKeyError\u001b[0m: 'acc'"
     ]
    },
    {
     "data": {
      "text/plain": [
       "<Figure size 432x288 with 0 Axes>"
      ]
     },
     "metadata": {},
     "output_type": "display_data"
    }
   ],
   "source": [
    "plt.figure(1)\n",
    "plt.plot(sonuc.history['acc'])\n",
    "plt.title(' accuracy')\n",
    "plt.ylabel('accuracy')\n",
    "plt.xlabel('epoch')\n",
    "plt.show()"
   ]
  },
  {
   "cell_type": "code",
   "execution_count": null,
   "id": "67c2b8ca",
   "metadata": {},
   "outputs": [],
   "source": [
    "plot_model(model, to_file='model.png')"
   ]
  }
 ],
 "metadata": {
  "kernelspec": {
   "display_name": "Python 3 (ipykernel)",
   "language": "python",
   "name": "python3"
  },
  "language_info": {
   "codemirror_mode": {
    "name": "ipython",
    "version": 3
   },
   "file_extension": ".py",
   "mimetype": "text/x-python",
   "name": "python",
   "nbconvert_exporter": "python",
   "pygments_lexer": "ipython3",
   "version": "3.9.7"
  }
 },
 "nbformat": 4,
 "nbformat_minor": 5
}
